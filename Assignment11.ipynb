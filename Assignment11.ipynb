{
 "cells": [
  {
   "cell_type": "code",
   "execution_count": 2,
   "id": "6b039967-44c4-4c29-85af-7c9bd8ff2e30",
   "metadata": {},
   "outputs": [
    {
     "data": {
      "text/plain": [
       "'Ans:The open() function is commonly used to open a file.\\nDifferent modes of opening a file are :\\nr\\tRead-only (text).\\nw\\tWrite-only (text); truncates if exists, creates otherwise.\\na\\tAppend-only (text).\\nr+\\tRead and write (text).\\nw+\\tWrite and read (text); truncates or creates file.\\na+\\tAppend and read (text).\\nrb\\tRead-only (binary).\\nwb\\tWrite-only (binary).\\nab\\tAppend-only (binary).\\nr+b\\tRead and write (binary).\\nw+b\\tWrite and read (binary); truncates or creates file.\\na+b\\tAppend and read (binary).'"
      ]
     },
     "execution_count": 2,
     "metadata": {},
     "output_type": "execute_result"
    }
   ],
   "source": [
    "#Q1. Which function is used to open a file? What are the different modes of opening a file? Explain each mode\n",
    "#of file opening.\n",
    "'''Ans:The open() function is commonly used to open a file.\n",
    "Different modes of opening a file are :\n",
    "r\tRead-only (text).\n",
    "w\tWrite-only (text); truncates if exists, creates otherwise.\n",
    "a\tAppend-only (text).\n",
    "r+\tRead and write (text).\n",
    "w+\tWrite and read (text); truncates or creates file.\n",
    "a+\tAppend and read (text).\n",
    "rb\tRead-only (binary).\n",
    "wb\tWrite-only (binary).\n",
    "ab\tAppend-only (binary).\n",
    "r+b\tRead and write (binary).\n",
    "w+b\tWrite and read (binary); truncates or creates file.\n",
    "a+b\tAppend and read (binary).'''"
   ]
  },
  {
   "cell_type": "code",
   "execution_count": 4,
   "id": "dfe56264-32fe-41a3-8a5b-a2687127a244",
   "metadata": {},
   "outputs": [
    {
     "data": {
      "text/plain": [
       "'Ans:The close() function is used to close an open file after you have finished \\nreading from or writing to it. In many programming languages, including Python, this \\nfunction is called to ensure that the file is properly closed.'"
      ]
     },
     "execution_count": 4,
     "metadata": {},
     "output_type": "execute_result"
    }
   ],
   "source": [
    "#Q2. Why close() function is used? Why is it important to close a file?\n",
    "'''Ans:The close() function is used to close an open file after you have finished \n",
    "reading from or writing to it. In many programming languages, including Python, this \n",
    "function is called to ensure that the file is properly closed.'''"
   ]
  },
  {
   "cell_type": "code",
   "execution_count": 6,
   "id": "e4b9552b-2e9f-4b55-94f8-7ff4d6fb3b94",
   "metadata": {},
   "outputs": [
    {
     "name": "stdout",
     "output_type": "stream",
     "text": [
      "I want to become a Data Scientist\n"
     ]
    }
   ],
   "source": [
    "#Q3. Write a python program to create a text file. Write ‘I want to become a Data Scientist’ in that file. Then\n",
    "#close the file. Open this file and read the content of the file.\n",
    "# Step 1: Create and write to the file\n",
    "file = open('data_scientist.txt', 'w')  # Open the file in write mode ('w')\n",
    "file.write('I want to become a Data Scientist')  # Write the text to the file\n",
    "file.close()  # Close the file to save changes\n",
    "\n",
    "# Step 2: Open and read the file\n",
    "file = open('data_scientist.txt', 'r')  # Open the file in read mode ('r')\n",
    "content = file.read()  # Read the content of the file\n",
    "print(content)  # Print the content to the console\n",
    "file.close()  # Close the file after reading\n"
   ]
  },
  {
   "cell_type": "code",
   "execution_count": 8,
   "id": "92fc9228-8426-453c-af27-356ef7e6c259",
   "metadata": {},
   "outputs": [
    {
     "data": {
      "text/plain": [
       "'Ans:read()\\n    Purpose: Reads the entire content of the file at once.\\n    Usage: It returns the whole file as a single string, including newlines.\\n    Behavior:\\n    If no argument is passed, it reads the entire file.\\n    If a number is passed as an argument (e.g., file.read(10)), it reads up to that many bytes.\\n\\n    readline()\\n    Purpose: Reads one line from the file at a time.\\n    Usage: It returns a string containing the next line from the file.\\n    Each call to readline() will read the next line, so if you call it repeatedly, you will read the entire file line by line.\\n    The result includes the newline character (\\n) at the end of the line.\\n    Behavior:\\n    It reads until the end of the line or the specified size.\\n    If the end of the file is reached, it returns an empty string.\\n\\n    readlines()\\n    Purpose: Reads the entire file and returns it as a list of strings, where each string is a line from the file.\\n    Usage: It splits the content of the file by lines and returns them in a list.\\n    Behavior:\\n    Each list item corresponds to a line from the file.\\n    Includes the newline character (\\n) at the end of each line, unless the line is the last one.'"
      ]
     },
     "execution_count": 8,
     "metadata": {},
     "output_type": "execute_result"
    }
   ],
   "source": [
    "#Q4. Explain the following with python code: read(), readline() and readlines().\n",
    "'''Ans:read()\n",
    "    Purpose: Reads the entire content of the file at once.\n",
    "    Usage: It returns the whole file as a single string, including newlines.\n",
    "    Behavior:\n",
    "    If no argument is passed, it reads the entire file.\n",
    "    If a number is passed as an argument (e.g., file.read(10)), it reads up to that many bytes.\n",
    "\n",
    "    readline()\n",
    "    Purpose: Reads one line from the file at a time.\n",
    "    Usage: It returns a string containing the next line from the file.\n",
    "    Each call to readline() will read the next line, so if you call it repeatedly, you will read the entire file line by line.\n",
    "    The result includes the newline character (\\n) at the end of the line.\n",
    "    Behavior:\n",
    "    It reads until the end of the line or the specified size.\n",
    "    If the end of the file is reached, it returns an empty string.\n",
    "\n",
    "    readlines()\n",
    "    Purpose: Reads the entire file and returns it as a list of strings, where each string is a line from the file.\n",
    "    Usage: It splits the content of the file by lines and returns them in a list.\n",
    "    Behavior:\n",
    "    Each list item corresponds to a line from the file.\n",
    "    Includes the newline character (\\n) at the end of each line, unless the line is the last one.'''"
   ]
  },
  {
   "cell_type": "code",
   "execution_count": 10,
   "id": "f532d3a8-bcc3-4e08-bab3-4806a400105f",
   "metadata": {},
   "outputs": [
    {
     "data": {
      "text/plain": [
       "'Ans:The with statement in Python is used in conjunction with the open() function to handle file operations,\\n    ensuring that the file is properly opened and closed, even if an error occurs during file processing\\n\\n    Advantages:\\n    1.Automatic File Closure\\n    2.Better Resource Managemen\\n    3.Cleaner and More Readable Code\\n    4.Exception Safety\\n    5.Simplified Error Handling'"
      ]
     },
     "execution_count": 10,
     "metadata": {},
     "output_type": "execute_result"
    }
   ],
   "source": [
    "#Q5. Explain why with statement is used with open(). What is the advantage of using with statement and\n",
    "#open() together?\n",
    "'''Ans:The with statement in Python is used in conjunction with the open() function to handle file operations,\n",
    "    ensuring that the file is properly opened and closed, even if an error occurs during file processing\n",
    "\n",
    "    Advantages:\n",
    "    1.Automatic File Closure\n",
    "    2.Better Resource Managemen\n",
    "    3.Cleaner and More Readable Code\n",
    "    4.Exception Safety\n",
    "    5.Simplified Error Handling'''"
   ]
  },
  {
   "cell_type": "code",
   "execution_count": null,
   "id": "f9e7123a-5b4d-43a0-8342-a55421216861",
   "metadata": {},
   "outputs": [],
   "source": [
    "#Q6. Explain the write() and writelines() functions. Give a suitable example.\n",
    "'''Ans:write()\n",
    "    Purpose: The write() function is used to write a single string to the file.\n",
    "    Behavior:\n",
    "    It writes the string passed as an argument to the file.\n",
    "    It does not add a newline character automatically, so if you want each string to \n",
    "    appear on a new line, you need to explicitly include the newline character (\\n).\n",
    "\n",
    "    "
   ]
  }
 ],
 "metadata": {
  "kernelspec": {
   "display_name": "Python 3 (ipykernel)",
   "language": "python",
   "name": "python3"
  },
  "language_info": {
   "codemirror_mode": {
    "name": "ipython",
    "version": 3
   },
   "file_extension": ".py",
   "mimetype": "text/x-python",
   "name": "python",
   "nbconvert_exporter": "python",
   "pygments_lexer": "ipython3",
   "version": "3.12.4"
  }
 },
 "nbformat": 4,
 "nbformat_minor": 5
}
